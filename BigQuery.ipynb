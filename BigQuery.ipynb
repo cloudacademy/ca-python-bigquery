{
 "cells": [
  {
   "cell_type": "markdown",
   "metadata": {},
   "source": [
    "# Getting Started with BigQuery "
   ]
  },
  {
   "cell_type": "markdown",
   "metadata": {},
   "source": [
    "Google BigQuery is a managed, scalable data warehouse that enables analysis over large sets of data.  BigQuery excels in querying and processing very large data sets in a SQL like fashion.  In this lab we will explore how easy it is to use and drive insights from our data using a Python Notebook with BigQuery!"
   ]
  },
  {
   "cell_type": "markdown",
   "metadata": {},
   "source": [
    "#### Lab: Querying from a Public Dataset\n",
    "In this lab we will be querying from one of the many [publicly available BigQuery Datasets.](https://cloud.google.com/bigquery/public-data)  Our code blocks below uses `%%bigquery` annotation which magically queries BigQuery and returns data as a Pandas Dataframe.  You can also [use the BigQuery UI as well](https://console.cloud.google.com/bigquery?authuser=1)\n",
    "\n",
    "Run the code block below to execute our first query and view weather data from the NOAA."
   ]
  },
  {
   "cell_type": "code",
   "execution_count": null,
   "metadata": {},
   "outputs": [],
   "source": [
    "%%bigquery\n",
    "SELECT * FROM\n",
    "  `bigquery-public-data.noaa_gsod.gsod*` LIMIT 10"
   ]
  },
  {
   "cell_type": "markdown",
   "metadata": {},
   "source": [
    "This data is useful, but it would be better enriched if we knew the station id's proper name.  The below code block demonstrates joining two data sets together to get a result"
   ]
  },
  {
   "cell_type": "code",
   "execution_count": null,
   "metadata": {},
   "outputs": [],
   "source": [
    "%%bigquery\n",
    "SELECT a.name, a.state, a.country, b.*\n",
    "FROM `fh-bigquery.weather_gsod.stations` a\n",
    "JOIN `bigquery-public-data.noaa_gsod.gsod*` b\n",
    "ON a.usaf=b.stn AND a.wban=b.wban LIMIT 10;"
   ]
  },
  {
   "cell_type": "markdown",
   "metadata": {},
   "source": [
    "Lastly during this lab, to emphasize how big our data sets are, we will do a count on the dataset.  Run the code block below to see how quickly BigQuery can handle very large datasets."
   ]
  },
  {
   "cell_type": "code",
   "execution_count": null,
   "metadata": {},
   "outputs": [],
   "source": [
    "%%bigquery\n",
    "SELECT count(1) FROM\n",
    "  `bigquery-public-data.noaa_gsod.gsod*`"
   ]
  },
  {
   "cell_type": "markdown",
   "metadata": {},
   "source": [
    "\n",
    "#### Lab: Gaining Insights From Our Data\n",
    "In this section we will perform some advanced querying to find the average daily temperature by month, for a specific municipality.  We will use AVG() and GROUP BY to find the average. "
   ]
  },
  {
   "cell_type": "code",
   "execution_count": null,
   "metadata": {},
   "outputs": [],
   "source": [
    "%%bigquery\n",
    "SELECT a.name, b.mo, AVG(temp) as Temp_f\n",
    "FROM `fh-bigquery.weather_gsod.stations` a\n",
    "JOIN `bigquery-public-data.noaa_gsod.gsod201*` b\n",
    "ON a.usaf=b.stn AND a.wban=b.wban \n",
    "WHERE a.state = 'CA' AND a.name = 'SAN FRANCISCO INTL'\n",
    "GROUP BY a.name, b.mo\n",
    "ORDER BY b.mo asc;"
   ]
  },
  {
   "cell_type": "markdown",
   "metadata": {},
   "source": [
    "Now its your turn! Change the state and name to a different municipality to find your own insights!\n",
    "**Hint:** You can use the this query to find weather stations in a different state.\n",
    "```%%bigquery avg_temperature\n",
    "SELECT DISTINCT a.name\n",
    "FROM `fh-bigquery.weather_gsod.stations` a\n",
    "JOIN `bigquery-public-data.noaa_gsod.gsod*` b\n",
    "ON a.usaf=b.stn AND a.wban=b.wban \n",
    "WHERE a.state = 'MI' LIMIT 10;\n",
    "```"
   ]
  },
  {
   "cell_type": "markdown",
   "metadata": {},
   "source": [
    "Next we will visualize our data right here in the Python Notebook using the magic command `%matplotlib inline`.  For this example we will find the average temperature by month for the State of Alaska. First run the BigQuery query below to save the results into a Pandas Dataframe called `avg_temperature` to be made available in the following code block."
   ]
  },
  {
   "cell_type": "code",
   "execution_count": null,
   "metadata": {},
   "outputs": [],
   "source": [
    "%%bigquery avg_temperature\n",
    "SELECT a.state, b.mo, AVG(temp) as Temp_f\n",
    "FROM `fh-bigquery.weather_gsod.stations` a\n",
    "JOIN `bigquery-public-data.noaa_gsod.gsod201*` b\n",
    "ON a.usaf=b.stn AND a.wban=b.wban \n",
    "WHERE a.state = 'AK'\n",
    "GROUP BY a.state, b.mo\n",
    "ORDER BY b.mo asc;"
   ]
  },
  {
   "cell_type": "code",
   "execution_count": null,
   "metadata": {},
   "outputs": [],
   "source": [
    "%matplotlib inline\n",
    "avg_temperature.plot(kind='bar', x='mo', y='Temp_f');\n"
   ]
  },
  {
   "cell_type": "markdown",
   "metadata": {},
   "source": [
    "**First:** Modify the query above to find the average precipitation for Alaska (AK) throughout the year.\n",
    "\n",
    "**Second:** Change the query above to find results for your favorite city, and state!"
   ]
  },
  {
   "cell_type": "markdown",
   "metadata": {},
   "source": [
    "### Using Python to drive insights in BigQuery"
   ]
  },
  {
   "cell_type": "markdown",
   "metadata": {},
   "source": [
    "BigQuery also has an extensive Python library that you can draw from. Below is an example from before this time querying the dataset using Python.\n",
    "This time we will find the top 5 warmest average, and bottom 5 coolest average weather stations."
   ]
  },
  {
   "cell_type": "code",
   "execution_count": null,
   "metadata": {},
   "outputs": [],
   "source": [
    "import pandas as pd\n",
    "\n",
    "from google.cloud import bigquery\n",
    "client = bigquery.Client()\n",
    "\n",
    "sql = \"\"\"\n",
    "SELECT a.name, AVG(temp) as Temp_f\n",
    "FROM `fh-bigquery.weather_gsod.stations` a\n",
    "JOIN `bigquery-public-data.noaa_gsod.gsod201*` b\n",
    "ON a.usaf=b.stn AND a.wban=b.wban \n",
    "WHERE a.state = 'CA' \n",
    "GROUP BY a.name\n",
    "ORDER BY Temp_f desc LIMIT 5;\n",
    "\"\"\"\n",
    "df_desc = client.query(sql).to_dataframe()\n",
    "\n",
    "sql = \"\"\"\n",
    "SELECT a.name, AVG(temp) as Temp_f\n",
    "FROM `fh-bigquery.weather_gsod.stations` a\n",
    "JOIN `bigquery-public-data.noaa_gsod.gsod201*` b\n",
    "ON a.usaf=b.stn AND a.wban=b.wban \n",
    "WHERE a.state = 'CA' \n",
    "GROUP BY a.name\n",
    "ORDER BY Temp_f asc LIMIT 5;\n",
    "\"\"\"\n",
    "df_asc = client.query(sql).to_dataframe()\n",
    "\n",
    "frames = [df_asc, df_desc]\n",
    "result = pd.concat(frames)\n",
    "ax = result.plot(kind='bar', x='name', y='Temp_f', figsize=(15,7))\n",
    "ax.set_title('Hottest and Coldest Weather Stations in Califora')\n",
    "ax.set_xlabel('Station Name')\n",
    "ax.set_ylabel('Temp (F)');"
   ]
  },
  {
   "cell_type": "markdown",
   "metadata": {},
   "source": [
    "\n",
    "BigQuery, Python and Dataframes also supports other powerful techniques such as pivot tables. Pivot tables allow a summary of the data in a more advanced format featuring averages, sums, counts, and other statistics.  This example below takes the average temperature data and displays it in both graph and table form for multiple states."
   ]
  },
  {
   "cell_type": "code",
   "execution_count": null,
   "metadata": {},
   "outputs": [],
   "source": [
    "import pandas as pd\n",
    "\n",
    "from google.cloud import bigquery\n",
    "client = bigquery.Client()\n",
    "\n",
    "sql = \"\"\"\n",
    "SELECT AVG(b.temp) as Temp_f, b.year, a.state\n",
    "FROM `fh-bigquery.weather_gsod.stations` a\n",
    "JOIN `bigquery-public-data.noaa_gsod.gsod*` b\n",
    "ON a.usaf=b.stn AND a.wban=b.wban \n",
    "WHERE a.country='US' AND a.state IN ('MI','CA','AK') AND b.year > '1990' AND b.year < '2020'\n",
    "Group By b.year, a.state\n",
    "\"\"\"\n",
    "\n",
    "df = client.query(sql).to_dataframe()\n",
    "pivot_table = pd.pivot_table(df, index=['year'], columns=['state'], values=['Temp_f'])\n",
    "pivot_table.plot(kind='bar', figsize=(15, 7));\n",
    "display(pivot_table)"
   ]
  },
  {
   "cell_type": "markdown",
   "metadata": {},
   "source": [
    "Modify the Python code above to find your own insights in the NOAA dataset!"
   ]
  },
  {
   "cell_type": "markdown",
   "metadata": {},
   "source": []
  }
 ],
 "metadata": {
  "environment": {
   "name": "common-cpu.m50",
   "type": "gcloud",
   "uri": "gcr.io/deeplearning-platform-release/base-cpu:m50"
  },
  "kernelspec": {
   "display_name": "Python 3",
   "language": "python",
   "name": "python3"
  },
  "language_info": {
   "codemirror_mode": {
    "name": "ipython",
    "version": 3
   },
   "file_extension": ".py",
   "mimetype": "text/x-python",
   "name": "python",
   "nbconvert_exporter": "python",
   "pygments_lexer": "ipython3",
   "version": "3.7.6"
  }
 },
 "nbformat": 4,
 "nbformat_minor": 4
}
